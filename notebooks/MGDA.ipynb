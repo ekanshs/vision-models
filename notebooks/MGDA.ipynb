{
 "cells": [
  {
   "cell_type": "code",
   "execution_count": 1,
   "id": "cfce0b1f",
   "metadata": {},
   "outputs": [
    {
     "name": "stderr",
     "output_type": "stream",
     "text": [
      "2024-07-29 17:07:31.357724: E external/local_xla/xla/stream_executor/cuda/cuda_fft.cc:479] Unable to register cuFFT factory: Attempting to register factory for plugin cuFFT when one has already been registered\n",
      "2024-07-29 17:07:31.389767: E external/local_xla/xla/stream_executor/cuda/cuda_dnn.cc:10575] Unable to register cuDNN factory: Attempting to register factory for plugin cuDNN when one has already been registered\n",
      "2024-07-29 17:07:31.389811: E external/local_xla/xla/stream_executor/cuda/cuda_blas.cc:1442] Unable to register cuBLAS factory: Attempting to register factory for plugin cuBLAS when one has already been registered\n",
      "2024-07-29 17:07:32.899968: W tensorflow/compiler/tf2tensorrt/utils/py_utils.cc:38] TF-TRT Warning: Could not find TensorRT\n",
      "/h/ekansh/condaenvs/jax-0.4.23/pandas/core/computation/expressions.py:21: UserWarning: Pandas requires version '2.8.4' or newer of 'numexpr' (version '2.8.1' currently installed).\n",
      "  from pandas.core.computation.check import NUMEXPR_INSTALLED\n",
      "/h/ekansh/condaenvs/jax-0.4.23/pandas/core/arrays/masked.py:60: UserWarning: Pandas requires version '1.3.6' or newer of 'bottleneck' (version '1.3.4' currently installed).\n",
      "  from pandas.core import (\n",
      "2024-07-29 17:07:35.952528: W tensorflow/core/common_runtime/gpu/gpu_device.cc:2251] Cannot dlopen some GPU libraries. Please make sure the missing libraries mentioned above are installed properly if you would like to use GPU. Follow the guide at https://www.tensorflow.org/install/gpu for how to download and setup the required libraries for your platform.\n",
      "Skipping registering GPU devices...\n"
     ]
    }
   ],
   "source": [
    "import functools\n",
    "from absl import logging\n",
    "\n",
    "import jax\n",
    "from jax import random\n",
    "import jax.numpy as jnp\n",
    "\n",
    "from flax import jax_utils\n",
    "from flax.training import common_utils\n",
    "\n",
    "import ml_collections\n",
    "\n",
    "from data import input_pipeline\n",
    "import models\n",
    "\n",
    "import wandb\n",
    "\n",
    "import numpy as np\n",
    "import utils\n",
    "\n",
    "from configs.eval_merge import get_config\n",
    "\n",
    "import seaborn as sns\n",
    "from matplotlib import cm\n",
    "import matplotlib.pyplot as plt\n",
    "from utils import restore_checkpoint\n",
    "\n",
    "import merging\n",
    "import models\n",
    "\n",
    "\n",
    "from trainer import compute_metrics "
   ]
  },
  {
   "cell_type": "code",
   "execution_count": 2,
   "id": "0e8918fa",
   "metadata": {},
   "outputs": [],
   "source": [
    "def get_metrics(metrics):\n",
    "  return common_utils.stack_forest(metrics)\n",
    "\n",
    "  \n",
    "@functools.partial(jax.jit, static_argnums=(0,))\n",
    "def eval_step(apply_fn, params, batch):\n",
    "    variables = {'params': params}\n",
    "    logits = apply_fn(variables, batch['image'])\n",
    "    metrics = compute_metrics(logits, batch['label'])  \n",
    "    return metrics\n",
    "\n",
    "\n",
    "def compute_loss_and_accuracy(params, apply_fn, dataset, nbatches=None):\n",
    "  eval_iter = input_pipeline.prefetch(dataset, 10, None)\n",
    "  eval_metrics = []\n",
    "  ix = 0\n",
    "  for eval_batch in eval_iter:\n",
    "      metrics = eval_step(apply_fn, params, eval_batch)\n",
    "      eval_metrics.append(metrics)\n",
    "      ix+=1\n",
    "      if nbatches is not None:\n",
    "          if ix >= nbatches:\n",
    "              break\n",
    "  \n",
    "  eval_metrics = get_metrics(eval_metrics)\n",
    "  summary = {\n",
    "          f'eval_{k}': v\n",
    "          for k, v in jax.tree_util.tree_map(\n",
    "              lambda x: x.mean(), eval_metrics\n",
    "          ).items()\n",
    "      }\n",
    "\n",
    "  return summary['eval_loss'], summary['eval_accuracy']\n",
    "\n"
   ]
  },
  {
   "cell_type": "code",
   "execution_count": 3,
   "id": "f1783ae3",
   "metadata": {},
   "outputs": [],
   "source": [
    "config = get_config(f'VGG16,cifar10.cifar100.eurosat.resisc45.stanford_dogs,mgda-merging')\n",
    "\n",
    "# config = get_config(f'VGG16,cifar10.cifar100.eurosat.resisc45,mgda-merging')\n",
    "config.width_multiplier = 2\n",
    "config.cifar10.model_dir = 'checkpoint/VGG16x2/scratch/cifar10_96/sgd/cosine_decay/peak_lr_1e-1/seed_0/12980172'\n",
    "config.cifar10.init_model_dir = 'checkpoint/VGG16x2/scratch/cifar10_96/sgd/cosine_decay/peak_lr_1e-1/seed_0/12980172/init'\n",
    "config.cifar100.model_dir = 'checkpoint/VGG16x2/scratch/cifar100_96/sgd/cosine_decay/peak_lr_1e-1/seed_0/12980173/'\n",
    "config.cifar100.init_model_dir = 'checkpoint/VGG16x2/scratch/cifar100_96/sgd/cosine_decay/peak_lr_1e-1/seed_0/12980173/init'\n",
    "config.eurosat.model_dir = 'checkpoint/VGG16x2/scratch/eurosat_96/sgd/cosine_decay/peak_lr_1e-1/seed_0/12980176/'\n",
    "config.eurosat.init_model_dir = 'checkpoint/VGG16x2/scratch/eurosat_96/sgd/cosine_decay/peak_lr_1e-1/seed_0/12980176/init'\n",
    "config.resisc45.model_dir = 'checkpoint/VGG16x2/scratch/resisc45_96/sgd/cosine_decay/peak_lr_1e-1/seed_0/12980183/'\n",
    "config.resisc45.init_model_dir = 'checkpoint/VGG16x2/scratch/resisc45_96/sgd/cosine_decay/peak_lr_1e-1/seed_0/12980183/init'\n",
    "config.stanford_dogs.model_dir = 'checkpoint/VGG16x2/scratch/stanford_dogs_96/sgd/cosine_decay/peak_lr_1e-1/seed_0/12980184/'\n",
    "config.stanford_dogs.init_model_dir = 'checkpoint/VGG16x2/scratch/stanford_dogs_96/sgd/cosine_decay/peak_lr_1e-1/seed_0/12980184/init'\n",
    "config.cifar10.pp.crop = 96\n",
    "config.cifar100.pp.crop = 96\n",
    "config.eurosat.pp.crop = 96\n",
    "config.resisc45.pp.crop = 96\n",
    "config.stanford_dogs.pp.crop = 96\n"
   ]
  },
  {
   "cell_type": "code",
   "execution_count": 14,
   "id": "f63ffff5",
   "metadata": {},
   "outputs": [],
   "source": [
    "config = get_config(f'VGG16,cifar10.cifar100.eurosat.resisc45.stanford_dogs,mgda-merging')\n",
    "config.width_multiplier = 2\n",
    "config.cifar10.model_dir = 'checkpoint/VGG16x2/finetuned_imagenet2012_96_13/cifar10_96/sgd/epochs_40_0/cosine_1e-2/seed_0/12980603/'\n",
    "config.cifar10.init_model_dir = 'checkpoint/VGG16x2/finetuned_imagenet2012_96_13/cifar10_96/sgd/epochs_40_0/cosine_1e-2/seed_0/12980603/init'\n",
    "config.cifar100.model_dir = 'checkpoint/VGG16x2/finetuned_imagenet2012_96_13/cifar100_96/sgd/epochs_40_0/cosine_1e-3/seed_0/12980685'\n",
    "config.cifar100.init_model_dir = 'checkpoint/VGG16x2/finetuned_imagenet2012_96_13/cifar100_96/sgd/epochs_40_0/cosine_1e-3/seed_0/12980685/init'\n",
    "config.eurosat.model_dir = 'checkpoint/VGG16x2/finetuned_imagenet2012_96_13/eurosat_96/sgd/epochs_40_0/cosine_1e-3/seed_0/12980688'\n",
    "config.eurosat.init_model_dir = 'checkpoint/VGG16x2/finetuned_imagenet2012_96_13/eurosat_96/sgd/epochs_40_0/cosine_1e-3/seed_0/12980688/init'\n",
    "config.resisc45.model_dir = 'checkpoint/VGG16x2/finetuned_imagenet2012_96_13/resisc45_96/sgd/epochs_40_0/cosine_1e-3/seed_0/12980693/'\n",
    "config.resisc45.init_model_dir = 'checkpoint/VGG16x2/finetuned_imagenet2012_96_13/resisc45_96/sgd/epochs_40_0/cosine_1e-3/seed_0/12980693/init'\n",
    "config.stanford_dogs.model_dir = 'checkpoint/VGG16x2/finetuned_imagenet2012_96_13/stanford_dogs_96/sgd/epochs_40_0/cosine_1e-3/seed_0/12980694'\n",
    "config.stanford_dogs.init_model_dir = 'checkpoint/VGG16x2/finetuned_imagenet2012_96_13/stanford_dogs_96/sgd/epochs_40_0/cosine_1e-3/seed_0/12980694/init'\n",
    "config.cifar10.pp.crop = 96\n",
    "config.cifar100.pp.crop = 96\n",
    "config.eurosat.pp.crop = 96\n",
    "config.resisc45.pp.crop = 96\n",
    "config.stanford_dogs.pp.crop = 96\n"
   ]
  },
  {
   "cell_type": "code",
   "execution_count": 25,
   "id": "fd6324c9",
   "metadata": {},
   "outputs": [],
   "source": [
    "from configs.eval_merge import get_config\n",
    "config = get_config(f'ViTB32,cifar10.cifar100.eurosat.stanford_dogs,mgda-merging')\n",
    "config.cifar10.model_dir = 'experiments/ViT-B-32/cifar10/adam_LR_1e-5_WD_1e-1/cosine/40_epochs_1_warmup/seed_0'\n",
    "config.cifar10.init_model_dir = 'experiments/ViT-B-32/cifar10/adam_LR_1e-5_WD_1e-1/cosine/40_epochs_1_warmup/seed_0/init'\n",
    "config.cifar100.model_dir = 'experiments/ViT-B-32/cifar100/adam_LR_1e-5_WD_1e-1/cosine/40_epochs_1_warmup/seed_0'\n",
    "config.cifar100.init_model_dir = 'experiments/ViT-B-32/cifar100/adam_LR_1e-5_WD_1e-1/cosine/40_epochs_1_warmup/seed_0/init'\n",
    "config.eurosat.model_dir = 'experiments/ViT-B-32/eurosat/adam_LR_1e-5_WD_1e-1/cosine/40_epochs_1_warmup/seed_0'\n",
    "config.eurosat.init_model_dir = 'experiments/ViT-B-32/eurosat/adam_LR_1e-5_WD_1e-1/cosine/40_epochs_1_warmup/seed_0/init'\n",
    "config.stanford_dogs.model_dir = 'experiments/ViT-B-32/stanford_dogs/sgd_LR_1e-3_WD_1e-4/cosine/40_epochs_1_warmup/seed_0'\n",
    "config.stanford_dogs.init_model_dir = 'experiments/ViT-B-32/stanford_dogs/sgd_LR_1e-3_WD_1e-4/cosine/40_epochs_1_warmup/seed_0/init'\n",
    "config.resisc45.model_dir = 'experiments/ViT-B-32/resisc45/sgd_LR_1e-3_WD_1e-4/cosine/40_epochs_1_warmup/seed_0/'\n",
    "config.resisc45.init_model_dir = 'experiments/ViT-B-32/resisc45/sgd_LR_1e-3_WD_1e-4/cosine/40_epochs_1_warmup/seed_0/init'\n",
    "\n",
    "config.cifar10.pp.crop = 224\n",
    "config.cifar100.pp.crop = 224\n",
    "config.eurosat.pp.crop = 224\n",
    "config.resisc45.pp.crop = 224"
   ]
  },
  {
   "cell_type": "code",
   "execution_count": 4,
   "id": "bf21817b",
   "metadata": {},
   "outputs": [],
   "source": [
    "from configs.eval_merge import get_config\n",
    "config = get_config(f'ViTB32,cifar10.cifar100,mgda-merging')\n",
    "config.cifar10.model_dir = 'experiments/ViT-B-32/FT_sgd_imagenet/cifar10/adam_LR_1e-3_WD_1e-4/cosine/40_epochs_1_warmup/seed_0/'\n",
    "config.cifar10.init_model_dir = 'experiments/ViT-B-32/FT_sgd_imagenet/cifar10/adam_LR_1e-3_WD_1e-4/cosine/40_epochs_1_warmup/seed_0/init'\n",
    "config.cifar100.model_dir = 'experiments/ViT-B-32/FT_sgd_imagenet/cifar100/adam_LR_1e-3_WD_1e-4/cosine/40_epochs_1_warmup/seed_0/'\n",
    "config.cifar100.init_model_dir = 'experiments/ViT-B-32/FT_sgd_imagenet/cifar100/adam_LR_1e-3_WD_1e-4/cosine/40_epochs_1_warmup/seed_0/init/'\n",
    "# config.eurosat.model_dir = 'experiments/ViT-B-32/eurosat/adam_LR_1e-5_WD_1e-1/cosine/40_epochs_1_warmup/seed_0'\n",
    "# config.eurosat.init_model_dir = 'experiments/ViT-B-32/eurosat/adam_LR_1e-5_WD_1e-1/cosine/40_epochs_1_warmup/seed_0/init'\n",
    "# config.stanford_dogs.model_dir = 'experiments/ViT-B-32/stanford_dogs/sgd_LR_1e-3_WD_1e-4/cosine/40_epochs_1_warmup/seed_0'\n",
    "# config.stanford_dogs.init_model_dir = 'experiments/ViT-B-32/stanford_dogs/sgd_LR_1e-3_WD_1e-4/cosine/40_epochs_1_warmup/seed_0/init'\n",
    "# config.resisc45.model_dir = 'experiments/ViT-B-32/resisc45/sgd_LR_1e-3_WD_1e-4/cosine/40_epochs_1_warmup/seed_0/'\n",
    "# config.resisc45.init_model_dir = 'experiments/ViT-B-32/resisc45/sgd_LR_1e-3_WD_1e-4/cosine/40_epochs_1_warmup/seed_0/init'\n",
    "\n",
    "config.cifar10.pp.crop = 224\n",
    "config.cifar100.pp.crop = 224\n",
    "config.eurosat.pp.crop = 224\n",
    "config.resisc45.pp.crop = 224"
   ]
  },
  {
   "cell_type": "code",
   "execution_count": 5,
   "id": "2070a0fd",
   "metadata": {},
   "outputs": [],
   "source": [
    "datasets = config.datasets\n",
    "dataset_info_ls = [input_pipeline.get_dataset_info(dataset, config[dataset].pp['train']) for dataset in config.datasets]\n",
    "num_classes = [dataset_info['num_classes'] for dataset_info in dataset_info_ls] \n",
    "num_train_examples = [dataset_info['num_examples'] for dataset_info in dataset_info_ls]\n",
    "\n",
    "_, ds_test_ls = input_pipeline.get_datasets_for_mtl(config, datasets)\n",
    "\n"
   ]
  },
  {
   "cell_type": "code",
   "execution_count": 6,
   "id": "3ca1b1ec",
   "metadata": {},
   "outputs": [
    {
     "name": "stdout",
     "output_type": "stream",
     "text": [
      "Loading init and expert models for cifar10.\n",
      "Loading init and expert models for cifar100.\n"
     ]
    }
   ],
   "source": [
    "ntasks = len(num_classes)\n",
    "model_ls = []\n",
    "for nclass in num_classes:\n",
    "    model_ls += [models.create_model(\n",
    "                    model_cls= getattr(models, config.model), \n",
    "                    num_classes=nclass, \n",
    "                    width_multiplier=config.width_multiplier,\n",
    "                    projection_dim=512, \n",
    "                    half_precision=config.half_precision) ]\n",
    "\n",
    "## Get expert + init  models\n",
    "expert_params_ls = []\n",
    "init_params_ls = []\n",
    "for dataset in datasets:\n",
    "    print(f\"Loading init and expert models for {dataset}.\")\n",
    "    expert_params_ls += [restore_checkpoint(config[dataset].model_dir)['params']]\n",
    "    init_params_ls += [restore_checkpoint(config[dataset].init_model_dir)['params']]  \n",
    "\n"
   ]
  },
  {
   "cell_type": "code",
   "execution_count": null,
   "id": "9b048884",
   "metadata": {},
   "outputs": [],
   "source": []
  },
  {
   "cell_type": "code",
   "execution_count": 7,
   "id": "de09d4f8",
   "metadata": {},
   "outputs": [],
   "source": [
    "\n",
    "## Compute task vectors\n",
    "task_vectors = [utils.tree_subtract({\n",
    "    'encoder' : params['encoder'],\n",
    "    'visual_projection' : params['visual_projection']\n",
    "}, {\n",
    "    'encoder' : init_params['encoder'],\n",
    "    'visual_projection' : init_params['visual_projection']\n",
    "}) for params, init_params  in zip(expert_params_ls, init_params_ls)]  \n",
    "\n",
    "perf_gain = lambda acc, init_acc: (acc - init_acc) / init_acc\n",
    "perf_drop = lambda acc, expert_acc: (expert_acc - acc) / expert_acc\n"
   ]
  },
  {
   "cell_type": "code",
   "execution_count": 8,
   "id": "f0edd357",
   "metadata": {},
   "outputs": [],
   "source": [
    "from utils import cosine_similarity\n",
    "\n",
    "cosine_sim_tv = np.zeros((ntasks, ntasks))\n",
    "for i in range(ntasks):\n",
    "    for j in range(i, ntasks):\n",
    "        cosine_sim_tv[i, j] = cosine_similarity(task_vectors[i], task_vectors[j])\n",
    "        cosine_sim_tv[j, i] = cosine_sim_tv[i, j]"
   ]
  },
  {
   "cell_type": "code",
   "execution_count": 26,
   "id": "438cdc3a",
   "metadata": {},
   "outputs": [
    {
     "data": {
      "text/plain": [
       "Array(0.9991379, dtype=float32)"
      ]
     },
     "execution_count": 26,
     "metadata": {},
     "output_type": "execute_result"
    }
   ],
   "source": [
    "cosine_similarity(task_vectors[4], task_vectors[2])"
   ]
  },
  {
   "cell_type": "code",
   "execution_count": 9,
   "id": "735a5404",
   "metadata": {},
   "outputs": [
    {
     "name": "stderr",
     "output_type": "stream",
     "text": [
      "/tmp/ipykernel_29764/1104765320.py:3: MatplotlibDeprecationWarning: The get_cmap function was deprecated in Matplotlib 3.7 and will be removed in 3.11. Use ``matplotlib.colormaps[name]`` or ``matplotlib.colormaps.get_cmap()`` or ``pyplot.get_cmap()`` instead.\n",
      "  cmap = cm.get_cmap('Blues', 20)\n"
     ]
    },
    {
     "data": {
      "text/plain": [
       "Text(0.5, 1.0, 'Cosine similarity of task vectors')"
      ]
     },
     "execution_count": 9,
     "metadata": {},
     "output_type": "execute_result"
    },
    {
     "data": {
      "image/png": "[encoded data removed]",
      "text/plain": [
       "<Figure size 640x480 with 2 Axes>"
      ]
     },
     "metadata": {},
     "output_type": "display_data"
    }
   ],
   "source": [
    "import seaborn as sns\n",
    "from matplotlib import cm\n",
    "cmap = cm.get_cmap('Blues', 20)\n",
    "sns.heatmap(cosine_sim_tv, annot=True, cmap = cmap, vmax=1, vmin=-0.).set_title('Cosine similarity of task vectors')"
   ]
  },
  {
   "cell_type": "code",
   "execution_count": null,
   "id": "b1fb1082",
   "metadata": {},
   "outputs": [],
   "source": []
  },
  {
   "cell_type": "code",
   "execution_count": 63,
   "id": "fdadcc9c",
   "metadata": {},
   "outputs": [
    {
     "data": {
      "text/plain": [
       "Array(0.06073131, dtype=float32)"
      ]
     },
     "execution_count": 63,
     "metadata": {},
     "output_type": "execute_result"
    }
   ],
   "source": [
    "cosine_similarity(utils.add_trees(task_vectors[:2]), task_vectors[3])"
   ]
  },
  {
   "cell_type": "code",
   "execution_count": 37,
   "id": "ea3318fa",
   "metadata": {},
   "outputs": [
    {
     "data": {
      "text/plain": [
       "3"
      ]
     },
     "execution_count": 37,
     "metadata": {},
     "output_type": "execute_result"
    }
   ],
   "source": [
    "len(task_vectors[:3])"
   ]
  },
  {
   "cell_type": "code",
   "execution_count": 36,
   "id": "51193e05",
   "metadata": {},
   "outputs": [
    {
     "name": "stderr",
     "output_type": "stream",
     "text": [
      "/tmp/ipykernel_19936/2698817184.py:3: MatplotlibDeprecationWarning: The get_cmap function was deprecated in Matplotlib 3.7 and will be removed in 3.11. Use ``matplotlib.colormaps[name]`` or ``matplotlib.colormaps.get_cmap()`` or ``pyplot.get_cmap()`` instead.\n",
      "  cmap = cm.get_cmap('Blues', 20)\n"
     ]
    },
    {
     "data": {
      "text/plain": [
       "Text(0.5, 1.0, 'Cosine similarity of gradients')"
      ]
     },
     "execution_count": 36,
     "metadata": {},
     "output_type": "execute_result"
    },
    {
     "data": {
      "image/png": "[encoded data removed]",
      "text/plain": [
       "<Figure size 640x480 with 2 Axes>"
      ]
     },
     "metadata": {},
     "output_type": "display_data"
    }
   ],
   "source": [
    "\n"
   ]
  },
  {
   "cell_type": "code",
   "execution_count": 7,
   "id": "19d7a847",
   "metadata": {},
   "outputs": [
    {
     "name": "stdout",
     "output_type": "stream",
     "text": [
      "[0.23491642 0.24036642 0.25369351 0.27102367]\n",
      "[0.15530696 0.03245251 0.63068806 0.18155248]\n"
     ]
    }
   ],
   "source": [
    "from min_norm_solver import find_min_norm_element_FW\n",
    "\n",
    "normalized_task_vectors = [utils.normalize_tree(t)[0] for t in task_vectors]\n",
    "print(find_min_norm_element_FW(normalized_task_vectors)[0])\n",
    "print(find_min_norm_element_FW(task_vectors)[0])\n",
    "\n",
    "\n"
   ]
  },
  {
   "cell_type": "code",
   "execution_count": null,
   "id": "1e6f625b",
   "metadata": {},
   "outputs": [],
   "source": []
  },
  {
   "cell_type": "code",
   "execution_count": 11,
   "id": "9efe8427",
   "metadata": {},
   "outputs": [
    {
     "name": "stderr",
     "output_type": "stream",
     "text": [
      "2024-07-29 17:45:00.357453: W tensorflow/core/kernels/data/cache_dataset_ops.cc:858] The calling iterator did not fully read the dataset being cached. In order to avoid unexpected truncation of the dataset, the partially cached contents of the dataset  will be discarded. This can happen if you have an input pipeline similar to `dataset.cache().take(k).repeat()`. You should use `dataset.take(k).cache().repeat()` instead.\n",
      "2024-07-29 17:45:02.537712: W tensorflow/core/kernels/data/cache_dataset_ops.cc:858] The calling iterator did not fully read the dataset being cached. In order to avoid unexpected truncation of the dataset, the partially cached contents of the dataset  will be discarded. This can happen if you have an input pipeline similar to `dataset.cache().take(k).repeat()`. You should use `dataset.take(k).cache().repeat()` instead.\n",
      "2024-07-29 17:45:04.113882: W tensorflow/core/kernels/data/cache_dataset_ops.cc:858] The calling iterator did not fully read the dataset being cached. In order to avoid unexpected truncation of the dataset, the partially cached contents of the dataset  will be discarded. This can happen if you have an input pipeline similar to `dataset.cache().take(k).repeat()`. You should use `dataset.take(k).cache().repeat()` instead.\n",
      "2024-07-29 17:45:06.086128: W tensorflow/core/kernels/data/cache_dataset_ops.cc:858] The calling iterator did not fully read the dataset being cached. In order to avoid unexpected truncation of the dataset, the partially cached contents of the dataset  will be discarded. This can happen if you have an input pipeline similar to `dataset.cache().take(k).repeat()`. You should use `dataset.take(k).cache().repeat()` instead.\n",
      "2024-07-29 17:45:07.675259: W tensorflow/core/kernels/data/cache_dataset_ops.cc:858] The calling iterator did not fully read the dataset being cached. In order to avoid unexpected truncation of the dataset, the partially cached contents of the dataset  will be discarded. This can happen if you have an input pipeline similar to `dataset.cache().take(k).repeat()`. You should use `dataset.take(k).cache().repeat()` instead.\n",
      "2024-07-29 17:45:09.425881: W tensorflow/core/kernels/data/cache_dataset_ops.cc:858] The calling iterator did not fully read the dataset being cached. In order to avoid unexpected truncation of the dataset, the partially cached contents of the dataset  will be discarded. This can happen if you have an input pipeline similar to `dataset.cache().take(k).repeat()`. You should use `dataset.take(k).cache().repeat()` instead.\n",
      "2024-07-29 17:45:11.225209: W tensorflow/core/kernels/data/cache_dataset_ops.cc:858] The calling iterator did not fully read the dataset being cached. In order to avoid unexpected truncation of the dataset, the partially cached contents of the dataset  will be discarded. This can happen if you have an input pipeline similar to `dataset.cache().take(k).repeat()`. You should use `dataset.take(k).cache().repeat()` instead.\n",
      "2024-07-29 17:45:12.912379: W tensorflow/core/kernels/data/cache_dataset_ops.cc:858] The calling iterator did not fully read the dataset being cached. In order to avoid unexpected truncation of the dataset, the partially cached contents of the dataset  will be discarded. This can happen if you have an input pipeline similar to `dataset.cache().take(k).repeat()`. You should use `dataset.take(k).cache().repeat()` instead.\n",
      "2024-07-29 17:45:14.506960: W tensorflow/core/kernels/data/cache_dataset_ops.cc:858] The calling iterator did not fully read the dataset being cached. In order to avoid unexpected truncation of the dataset, the partially cached contents of the dataset  will be discarded. This can happen if you have an input pipeline similar to `dataset.cache().take(k).repeat()`. You should use `dataset.take(k).cache().repeat()` instead.\n",
      "2024-07-29 17:45:16.116800: W tensorflow/core/kernels/data/cache_dataset_ops.cc:858] The calling iterator did not fully read the dataset being cached. In order to avoid unexpected truncation of the dataset, the partially cached contents of the dataset  will be discarded. This can happen if you have an input pipeline similar to `dataset.cache().take(k).repeat()`. You should use `dataset.take(k).cache().repeat()` instead.\n"
     ]
    }
   ],
   "source": [
    "ix = 0\n",
    "loss = []\n",
    "accs = []\n",
    "for lam in np.linspace(0,1,10):\n",
    "    params = utils.lerp(lam, init_params_ls[ix], expert_params_ls[ix])\n",
    "    merged_params = {\n",
    "        'encoder': params['encoder'],\n",
    "        'visual_projection': params['visual_projection'],\n",
    "        'logit_scale': expert_params_ls[ix]['logit_scale'], \n",
    "        'classifier': expert_params_ls[ix]['classifier']\n",
    "        }\n",
    "    merged_loss, merged_accuracy = compute_loss_and_accuracy(merged_params, model_ls[ix].apply, ds_test_ls[ix], nbatches = 10)\n",
    "    loss += [merged_loss]   \n",
    "    accs += [merged_accuracy]   \n",
    "    "
   ]
  },
  {
   "cell_type": "code",
   "execution_count": 13,
   "id": "79949959",
   "metadata": {},
   "outputs": [
    {
     "data": {
      "text/plain": [
       "[<matplotlib.lines.Line2D at 0x7f5024696ac0>]"
      ]
     },
     "execution_count": 13,
     "metadata": {},
     "output_type": "execute_result"
    },
    {
     "data": {
      "image/png": "[encoded data removed]",
      "text/plain": [
       "<Figure size 640x480 with 1 Axes>"
      ]
     },
     "metadata": {},
     "output_type": "display_data"
    }
   ],
   "source": [
    "import matplotlib.pyplot as plt\n",
    "\n",
    "# plt.plot(np.linspace(0,1,10), loss)\n",
    "plt.plot(np.linspace(0,1,10), accs)"
   ]
  },
  {
   "cell_type": "code",
   "execution_count": null,
   "id": "31f90c0a",
   "metadata": {},
   "outputs": [],
   "source": []
  },
  {
   "cell_type": "code",
   "execution_count": 106,
   "id": "4d4d37b5",
   "metadata": {},
   "outputs": [],
   "source": [
    "import utils"
   ]
  },
  {
   "cell_type": "code",
   "execution_count": 107,
   "id": "c3f4599c",
   "metadata": {},
   "outputs": [
    {
     "data": {
      "text/plain": [
       "4"
      ]
     },
     "execution_count": 107,
     "metadata": {},
     "output_type": "execute_result"
    }
   ],
   "source": [
    "len(task_vectors)"
   ]
  },
  {
   "cell_type": "code",
   "execution_count": 83,
   "id": "07d019fd",
   "metadata": {},
   "outputs": [
    {
     "name": "stdout",
     "output_type": "stream",
     "text": [
      "cifar10\n"
     ]
    },
    {
     "name": "stderr",
     "output_type": "stream",
     "text": [
      "2024-07-26 12:42:19.769302: W tensorflow/core/framework/local_rendezvous.cc:404] Local rendezvous is aborting with status: OUT_OF_RANGE: End of sequence\n"
     ]
    },
    {
     "name": "stdout",
     "output_type": "stream",
     "text": [
      "0.95552886\n",
      "cifar100\n",
      "0.3731971\n"
     ]
    },
    {
     "name": "stderr",
     "output_type": "stream",
     "text": [
      "2024-07-26 12:42:28.818453: W tensorflow/core/framework/local_rendezvous.cc:404] Local rendezvous is aborting with status: OUT_OF_RANGE: End of sequence\n"
     ]
    }
   ],
   "source": [
    "for dataset, ds_test, model, init_params,  params in zip(config.datasets, ds_test_ls, model_ls, init_params_ls, expert_params_ls):\n",
    "    print(dataset)\n",
    "    merged_params = {\n",
    "        'encoder': utils.tree_add(init_params['encoder'], merged_task_vector['encoder']),\n",
    "        'visual_projection': utils.tree_add(init_params['visual_projection'], merged_task_vector['visual_projection']),\n",
    "        'logit_scale': params['logit_scale'], \n",
    "        'classifier': params['classifier']\n",
    "        }\n",
    "    merged_loss, merged_accuracy = compute_loss_and_accuracy(merged_params, model.apply, ds_test)\n",
    "    print(merged_accuracy)    \n"
   ]
  },
  {
   "cell_type": "code",
   "execution_count": 112,
   "id": "4688c440",
   "metadata": {},
   "outputs": [
    {
     "name": "stderr",
     "output_type": "stream",
     "text": [
      "2024-07-26 12:57:51.872500: W tensorflow/core/framework/local_rendezvous.cc:404] Local rendezvous is aborting with status: OUT_OF_RANGE: End of sequence\n"
     ]
    },
    {
     "name": "stdout",
     "output_type": "stream",
     "text": [
      "(0.16305833, 0.9582332)\n"
     ]
    },
    {
     "name": "stderr",
     "output_type": "stream",
     "text": [
      "2024-07-26 12:57:59.217605: W tensorflow/core/framework/local_rendezvous.cc:404] Local rendezvous is aborting with status: OUT_OF_RANGE: End of sequence\n"
     ]
    },
    {
     "name": "stdout",
     "output_type": "stream",
     "text": [
      "(0.9678351, 0.79677486)\n"
     ]
    },
    {
     "name": "stderr",
     "output_type": "stream",
     "text": [
      "2024-07-26 12:58:02.548940: W tensorflow/core/framework/local_rendezvous.cc:404] Local rendezvous is aborting with status: OUT_OF_RANGE: End of sequence\n"
     ]
    },
    {
     "name": "stdout",
     "output_type": "stream",
     "text": [
      "(0.07626327, 0.9750744)\n",
      "(0.42791477, 0.9039714)\n"
     ]
    },
    {
     "name": "stderr",
     "output_type": "stream",
     "text": [
      "2024-07-26 12:58:06.438524: W tensorflow/core/framework/local_rendezvous.cc:404] Local rendezvous is aborting with status: OUT_OF_RANGE: End of sequence\n"
     ]
    }
   ],
   "source": [
    "for i in range(4):\n",
    "    print(compute_loss_and_accuracy(expert_params_ls[i], model_ls[i].apply, ds_test_ls[i]))"
   ]
  },
  {
   "cell_type": "code",
   "execution_count": 113,
   "id": "c46c24cc",
   "metadata": {},
   "outputs": [
    {
     "name": "stderr",
     "output_type": "stream",
     "text": [
      "2024-07-26 12:58:13.834904: W tensorflow/core/framework/local_rendezvous.cc:404] Local rendezvous is aborting with status: OUT_OF_RANGE: End of sequence\n"
     ]
    },
    {
     "name": "stdout",
     "output_type": "stream",
     "text": [
      "(nan, 0.54717547)\n"
     ]
    },
    {
     "name": "stderr",
     "output_type": "stream",
     "text": [
      "2024-07-26 12:58:21.195879: W tensorflow/core/framework/local_rendezvous.cc:404] Local rendezvous is aborting with status: OUT_OF_RANGE: End of sequence\n"
     ]
    },
    {
     "name": "stdout",
     "output_type": "stream",
     "text": [
      "(nan, 0.31410256)\n"
     ]
    },
    {
     "name": "stderr",
     "output_type": "stream",
     "text": [
      "2024-07-26 12:58:23.280734: W tensorflow/core/framework/local_rendezvous.cc:404] Local rendezvous is aborting with status: OUT_OF_RANGE: End of sequence\n"
     ]
    },
    {
     "name": "stdout",
     "output_type": "stream",
     "text": [
      "(1.1593153, 0.63095236)\n",
      "(2.4498072, 0.34830728)\n"
     ]
    },
    {
     "name": "stderr",
     "output_type": "stream",
     "text": [
      "2024-07-26 12:58:25.873736: W tensorflow/core/framework/local_rendezvous.cc:404] Local rendezvous is aborting with status: OUT_OF_RANGE: End of sequence\n"
     ]
    }
   ],
   "source": [
    "for i in range(4):\n",
    "    print(compute_loss_and_accuracy(init_params_ls[i], model_ls[i].apply, ds_test_ls[i]))"
   ]
  },
  {
   "cell_type": "code",
   "execution_count": null,
   "id": "1b22609e",
   "metadata": {},
   "outputs": [],
   "source": [
    "\n"
   ]
  },
  {
   "cell_type": "code",
   "execution_count": 114,
   "id": "0f6f6d7d",
   "metadata": {},
   "outputs": [],
   "source": [
    "n_mgda_vec = merging.compute_normalized_mgda_vector(task_vectors, np.mean([utils.tree_norm(t) for t in task_vectors]))\n",
    "mgda_vec = merging.compute_mgda_vector(task_vectors)"
   ]
  },
  {
   "cell_type": "code",
   "execution_count": 115,
   "id": "b38037e7",
   "metadata": {},
   "outputs": [
    {
     "data": {
      "text/plain": [
       "5.099428"
      ]
     },
     "execution_count": 115,
     "metadata": {},
     "output_type": "execute_result"
    }
   ],
   "source": [
    "np.mean([utils.tree_norm(t) for t in task_vectors])"
   ]
  },
  {
   "cell_type": "code",
   "execution_count": 116,
   "id": "2cd92940",
   "metadata": {},
   "outputs": [],
   "source": [
    "tv_vec = utils.add_trees(task_vectors)"
   ]
  },
  {
   "cell_type": "code",
   "execution_count": 117,
   "id": "5f3939ee",
   "metadata": {},
   "outputs": [
    {
     "data": {
      "text/plain": [
       "array([0.15530696, 0.03245251, 0.63068806, 0.18155248])"
      ]
     },
     "execution_count": 117,
     "metadata": {},
     "output_type": "execute_result"
    }
   ],
   "source": [
    "find_min_norm_element_FW(task_vectors)[0]"
   ]
  },
  {
   "cell_type": "code",
   "execution_count": 119,
   "id": "8750df53",
   "metadata": {},
   "outputs": [
    {
     "name": "stdout",
     "output_type": "stream",
     "text": [
      "cifar10\n",
      "0.8625\n",
      "cifar100\n",
      "0.5453125\n",
      "eurosat\n",
      "0.7992188\n",
      "resisc45\n",
      "0.5578125\n"
     ]
    }
   ],
   "source": [
    "for ix in range(4):\n",
    "    print(datasets[ix])\n",
    "    merged_accuracy_ls = []\n",
    "    for lam in np.linspace(.1, 1.0, 20):\n",
    "        merged_params = {\n",
    "            'encoder': utils.tree_add(init_params_ls[ix]['encoder'], utils.tree_scalar_multiply(lam, tv_vec['encoder'])),\n",
    "            'visual_projection': utils.tree_add(init_params_ls[ix]['visual_projection'], utils.tree_scalar_multiply(lam ,tv_vec['visual_projection'])),\n",
    "            'logit_scale': expert_params_ls[ix]['logit_scale'], \n",
    "            'classifier': expert_params_ls[ix]['classifier']\n",
    "            }\n",
    "        merged_loss, merged_accuracy = compute_loss_and_accuracy(merged_params, model_ls[ix].apply, ds_test_ls[ix], nbatches=10)\n",
    "        merged_accuracy_ls += [merged_accuracy]\n",
    "    print(max(merged_accuracy_ls))\n",
    "        "
   ]
  },
  {
   "cell_type": "code",
   "execution_count": 120,
   "id": "d0fa01e8",
   "metadata": {},
   "outputs": [
    {
     "name": "stdout",
     "output_type": "stream",
     "text": [
      "cifar10\n",
      "0.7640625\n",
      "cifar100\n",
      "0.3796875\n",
      "eurosat\n",
      "0.90703124\n",
      "resisc45\n",
      "0.55390626\n"
     ]
    }
   ],
   "source": [
    "for ix in range(4):\n",
    "    print(datasets[ix])\n",
    "    merged_accuracy_ls = []\n",
    "    for lam in np.linspace(.1, 1.0, 20):\n",
    "        merged_params = {\n",
    "            'encoder': utils.tree_add(init_params_ls[ix]['encoder'], utils.tree_scalar_multiply(lam, n_mgda_vec['encoder'])),\n",
    "            'visual_projection': utils.tree_add(init_params_ls[ix]['visual_projection'], utils.tree_scalar_multiply(lam ,n_mgda_vec['visual_projection'])),\n",
    "            'logit_scale': expert_params_ls[ix]['logit_scale'], \n",
    "            'classifier': expert_params_ls[ix]['classifier']\n",
    "            }\n",
    "        merged_loss, merged_accuracy = compute_loss_and_accuracy(merged_params, model_ls[ix].apply, ds_test_ls[ix], nbatches=10)\n",
    "        merged_accuracy_ls += [merged_accuracy]\n",
    "    print(max(merged_accuracy_ls))\n"
   ]
  },
  {
   "cell_type": "code",
   "execution_count": 121,
   "id": "9f943f25",
   "metadata": {},
   "outputs": [
    {
     "name": "stdout",
     "output_type": "stream",
     "text": [
      "cifar10\n",
      "0.6671875\n",
      "cifar100\n",
      "0.3140625\n",
      "eurosat\n",
      "0.9453125\n",
      "resisc45\n",
      "0.45703125\n"
     ]
    }
   ],
   "source": [
    "for ix in range(4):\n",
    "    print(datasets[ix])\n",
    "    merged_accuracy_ls = []\n",
    "    for lam in np.linspace(.1, 1.0, 20):\n",
    "        merged_params = {\n",
    "            'encoder': utils.tree_add(init_params_ls[ix]['encoder'], utils.tree_scalar_multiply(lam, mgda_vec['encoder'])),\n",
    "            'visual_projection': utils.tree_add(init_params_ls[ix]['visual_projection'], utils.tree_scalar_multiply(lam ,mgda_vec['visual_projection'])),\n",
    "            'logit_scale': expert_params_ls[ix]['logit_scale'], \n",
    "            'classifier': expert_params_ls[ix]['classifier']\n",
    "            }\n",
    "        merged_loss, merged_accuracy = compute_loss_and_accuracy(merged_params, model_ls[ix].apply, ds_test_ls[ix], nbatches=10)\n",
    "        merged_accuracy_ls += [merged_accuracy]\n",
    "    print(max(merged_accuracy_ls))\n"
   ]
  },
  {
   "cell_type": "code",
   "execution_count": 95,
   "id": "883fbac8",
   "metadata": {},
   "outputs": [
    {
     "name": "stdout",
     "output_type": "stream",
     "text": [
      "0.1 0.30546874\n",
      "0.14500000000000002 0.3328125\n",
      "0.19 0.35625\n",
      "0.23500000000000001 0.38203126\n",
      "0.28 0.40390626\n",
      "0.32499999999999996 0.421875\n",
      "0.37 0.4375\n",
      "0.41500000000000004 0.44765624\n",
      "0.45999999999999996 0.46640626\n",
      "0.505 0.4796875\n",
      "0.5499999999999999 0.4984375\n",
      "0.595 0.5132812\n",
      "0.64 0.5109375\n",
      "0.6849999999999999 0.521875\n",
      "0.73 0.5179688\n",
      "0.7749999999999999 0.5203125\n",
      "0.82 0.5234375\n",
      "0.865 0.528125\n",
      "0.9099999999999999 0.5257813\n",
      "0.955 0.5289062\n",
      "1.0 0.5257813\n"
     ]
    }
   ],
   "source": [
    "\n"
   ]
  },
  {
   "cell_type": "code",
   "execution_count": 96,
   "id": "6557a3af",
   "metadata": {},
   "outputs": [],
   "source": [
    "mgda_vec = merging.compute_mgda_vector(task_vectors)"
   ]
  },
  {
   "cell_type": "code",
   "execution_count": 97,
   "id": "9b0960dc",
   "metadata": {},
   "outputs": [
    {
     "name": "stdout",
     "output_type": "stream",
     "text": [
      "0.1 0.64140624\n",
      "0.14500000000000002 0.6859375\n",
      "0.19 0.72734374\n",
      "0.23500000000000001 0.76484376\n",
      "0.28 0.7914063\n",
      "0.32499999999999996 0.8257812\n",
      "0.37 0.8515625\n",
      "0.41500000000000004 0.86796874\n",
      "0.45999999999999996 0.8796875\n",
      "0.505 0.890625\n",
      "0.5499999999999999 0.90703124\n",
      "0.595 0.9203125\n",
      "0.64 0.9273437\n",
      "0.6849999999999999 0.92890626\n",
      "0.73 0.934375\n",
      "0.7749999999999999 0.93828124\n",
      "0.82 0.9421875\n",
      "0.865 0.946875\n",
      "0.9099999999999999 0.9476563\n",
      "0.955 0.9515625\n",
      "1.0 0.95390624\n"
     ]
    }
   ],
   "source": [
    "ix = 0\n",
    "for lam in np.linspace(.1, 1.0, 21):\n",
    "    merged_params = {\n",
    "        'encoder': utils.tree_add(init_params_ls[ix]['encoder'], utils.tree_scalar_multiply(lam, mgda_vec['encoder'])),\n",
    "        'visual_projection': utils.tree_add(init_params_ls[ix]['visual_projection'], utils.tree_scalar_multiply(lam ,mgda_vec['visual_projection'])),\n",
    "        'logit_scale': expert_params_ls[ix]['logit_scale'], \n",
    "        'classifier': expert_params_ls[ix]['classifier']\n",
    "        }\n",
    "    merged_loss, merged_accuracy = compute_loss_and_accuracy(merged_params, model_ls[ix].apply, ds_test_ls[ix], nbatches=10)\n",
    "    print(lam, merged_accuracy)\n"
   ]
  },
  {
   "cell_type": "code",
   "execution_count": 99,
   "id": "3d47e510",
   "metadata": {},
   "outputs": [
    {
     "name": "stdout",
     "output_type": "stream",
     "text": [
      "0.1 0.29765624\n",
      "0.14500000000000002 0.31328124\n",
      "0.19 0.33046874\n",
      "0.23500000000000001 0.35234374\n",
      "0.28 0.36796874\n",
      "0.32499999999999996 0.3796875\n",
      "0.37 0.38984376\n",
      "0.41500000000000004 0.39375\n",
      "0.45999999999999996 0.3984375\n",
      "0.505 0.40703124\n",
      "0.5499999999999999 0.41171876\n",
      "0.595 0.4140625\n",
      "0.64 0.42421874\n",
      "0.6849999999999999 0.4203125\n",
      "0.73 0.4203125\n",
      "0.7749999999999999 0.41640624\n",
      "0.82 0.41015625\n",
      "0.865 0.40625\n",
      "0.9099999999999999 0.40234375\n",
      "0.955 0.38671875\n",
      "1.0 0.38046876\n"
     ]
    }
   ],
   "source": [
    "ix = 1\n",
    "for lam in np.linspace(.1, 1.0, 21):\n",
    "    merged_params = {\n",
    "        'encoder': utils.tree_add(init_params_ls[ix]['encoder'], utils.tree_scalar_multiply(lam, mgda_vec['encoder'])),\n",
    "        'visual_projection': utils.tree_add(init_params_ls[ix]['visual_projection'], utils.tree_scalar_multiply(lam ,mgda_vec['visual_projection'])),\n",
    "        'logit_scale': expert_params_ls[ix]['logit_scale'], \n",
    "        'classifier': expert_params_ls[ix]['classifier']\n",
    "        }\n",
    "    merged_loss, merged_accuracy = compute_loss_and_accuracy(merged_params, model_ls[ix].apply, ds_test_ls[ix], nbatches=10)\n",
    "    print(lam, merged_accuracy)"
   ]
  },
  {
   "cell_type": "code",
   "execution_count": null,
   "id": "ad951c73",
   "metadata": {},
   "outputs": [],
   "source": []
  }
 ],
 "metadata": {
  "kernelspec": {
   "display_name": "Python 3",
   "language": "python",
   "name": "python3"
  },
  "language_info": {
   "codemirror_mode": {
    "name": "ipython",
    "version": 3
   },
   "file_extension": ".py",
   "mimetype": "text/x-python",
   "name": "python",
   "nbconvert_exporter": "python",
   "pygments_lexer": "ipython3",
   "version": "3.9.12"
  }
 },
 "nbformat": 4,
 "nbformat_minor": 5
}
